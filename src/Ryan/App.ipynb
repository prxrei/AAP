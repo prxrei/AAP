{
 "cells": [
  {
   "cell_type": "code",
   "execution_count": null,
   "id": "094d4465-2162-4014-94d8-a60beb36fb09",
   "metadata": {},
   "outputs": [
    {
     "name": "stdout",
     "output_type": "stream",
     "text": [
      " * Serving Flask app '__main__'\n",
      " * Debug mode: on\n"
     ]
    },
    {
     "name": "stderr",
     "output_type": "stream",
     "text": [
      "WARNING: This is a development server. Do not use it in a production deployment. Use a production WSGI server instead.\n",
      " * Running on http://127.0.0.1:5000\n",
      "Press CTRL+C to quit\n",
      " * Restarting with stat\n"
     ]
    },
    {
     "ename": "SystemExit",
     "evalue": "1",
     "output_type": "error",
     "traceback": [
      "An exception has occurred, use %tb to see the full traceback.\n",
      "\u001b[1;31mSystemExit\u001b[0m\u001b[1;31m:\u001b[0m 1\n"
     ]
    }
   ],
   "source": [
    "import joblib\n",
    "from flask import Flask, render_template, request, jsonify\n",
    "\n",
    "model = joblib.load(\"LogRegModel.pkl\")\n",
    "\n",
    "app = Flask(__name__)\n",
    "\n",
    "@app.route(\"/\")\n",
    "def home():\n",
    "    return render_template(\"templates/Predictresults.html\")\n",
    "\n",
    "@app.route(\"/Predictresults\", methods=[\"POST\"])\n",
    "def PostResult():\n",
    "    input_data = request.form\n",
    "\n",
    "    try:\n",
    "        daytime_evening_attendance = int(input_data.get(\"Attendance\", 0))\n",
    "        age = int(input_data.get(\"Age\", 0))\n",
    "        semester_1_enrolled = int(input_data.get(\"Curricular units 1st sem (enrolled)\", 0))\n",
    "        semester_1_notevaluated = int(input_data.get(\"Curricular units 1st sem (without evaluations)\", 0))\n",
    "        semester_1_evaluated = int(input_data.get(\"Curricular units 1st sem (evaluations)\", 0))\n",
    "        semester_1_approved = int(input_data.get(\"Curricular units 1st sem (approved)\", 0))\n",
    "        semester_1_grade = int(input_data.get(\"Curricular units 1st sem (grade)\", 0))\n",
    "        semester_2_enrolled = int(input_data.get(\"Curricular units 2nd sem (enrolled)\", 0))\n",
    "        semester_2_notevaluated = int(input_data.get(\"Curricular units 2nd sem (without evaluations)\", 0))\n",
    "        semester_2_evaluated = int(input_data.get(\"Curricular units 2nd sem (evaluations)\", 0))\n",
    "        semester_2_approved = int(input_data.get(\"Curricular units 2nd sem (approved)\", 0))\n",
    "        semester_2_grade = int(input_data.get(\"Curricular units 2nd sem (grade)\", 0))\n",
    "\n",
    "        print(\"Extracted Features:\", [\n",
    "            daytime_evening_attendance, age,\n",
    "            semester_1_enrolled, semester_1_notevaluated, semester_1_evaluated, semester_1_approved, semester_1_grade,\n",
    "            semester_2_enrolled, semester_2_notevaluated, semester_2_evaluated, semester_2_approved, semester_2_grade\n",
    "        ])\n",
    "\n",
    "        features = np.array([\n",
    "            daytime_evening_attendance, age,\n",
    "            semester_1_enrolled, semester_1_notevaluated, semester_1_evaluated, semester_1_approved, semester_1_grade,\n",
    "            semester_2_enrolled, semester_2_notevaluated, semester_2_evaluated, semester_2_approved, semester_2_grade\n",
    "        ]).reshape(1, -1)\n",
    "\n",
    "\n",
    "        prediction = model.predict(features)\n",
    "        result = \"Passing\" if prediction[0] == 1 else \"Failing\"\n",
    "\n",
    "        return jsonify({\"result\": f\"The prediction is: {result}\"})\n",
    "\n",
    "    except ValueError:\n",
    "        return jsonify({\"error\": \"Invalid input. Please enter numerical values.\"}), 400\n",
    "\n",
    "if __name__ == \"__main__\":\n",
    "    app.run(debug=True)\n"
   ]
  },
  {
   "cell_type": "code",
   "execution_count": null,
   "id": "ef46f258-7d6a-49a5-a03b-8e912e77735f",
   "metadata": {},
   "outputs": [],
   "source": []
  }
 ],
 "metadata": {
  "kernelspec": {
   "display_name": "Python [conda env:it3100] *",
   "language": "python",
   "name": "conda-env-it3100-py"
  },
  "language_info": {
   "codemirror_mode": {
    "name": "ipython",
    "version": 3
   },
   "file_extension": ".py",
   "mimetype": "text/x-python",
   "name": "python",
   "nbconvert_exporter": "python",
   "pygments_lexer": "ipython3",
   "version": "3.10.13"
  }
 },
 "nbformat": 4,
 "nbformat_minor": 5
}
